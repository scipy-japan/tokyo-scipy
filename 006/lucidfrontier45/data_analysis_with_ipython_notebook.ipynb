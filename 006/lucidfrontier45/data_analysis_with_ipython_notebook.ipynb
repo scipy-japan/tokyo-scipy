{
 "metadata": {
  "name": "",
  "signature": "sha256:adff680681a201c6aa9ecdfe0225a4c005dee73ba889b15ffe705b9cefc8bea5"
 },
 "nbformat": 3,
 "nbformat_minor": 0,
 "worksheets": [
  {
   "cells": [
    {
     "cell_type": "markdown",
     "metadata": {},
     "source": [
      "#IPython Notebook\u3067\u59cb\u3081\u308b\u30c7\u30fc\u30bf\u5206\u6790\u3068\u53ef\u8996\u5316\n",
      "\n",
      "<img align=left src=http://ipython.org/_static/IPy_header.png>  "
     ]
    },
    {
     "cell_type": "markdown",
     "metadata": {
      "slideshow": {
       "slide_type": "slide"
      }
     },
     "source": [
      "#\u81ea\u5df1\u7d39\u4ecb\n",
      "\n",
      "\n",
      "- \u540d\u524d  : \u675c \u4e16\u6a4b (@lucidfrontier.45)\n",
      "\n",
      "- mail : [lucidfrontier.45@gmail.com](mailto: lucidfrontier.45@gmail.com)\n",
      "\n",
      "##\u4eca\u3084\u3063\u3066\u3044\u308b\u3053\u3068\n",
      "\n",
      "\n",
      "- [\u30d5\u30ea\u30fc\u30d3\u30c3\u30c8](http://www.freebit.com/)\u3067MVNO\u306e\u30c8\u30e9\u30c3\u30d5\u30a3\u30af\u30c7\u30fc\u30bf\u3092\u4e2d\u5fc3\u3057\u305f\u5206\u6790\n",
      "\n",
      "    - **python\u306e\u5e03\u6559\u306b\u6210\u529f**\n",
      "\n",
      "    - Hadoop + PyPy, MongoDB, Spark\u306a\u3069\u3082\u4f7f\u7528\n",
      "    \n",
      "\n",
      "- SmartWatermark(\u4eee)\u306e\u6280\u8853\u9867\u554f"
     ]
    },
    {
     "cell_type": "markdown",
     "metadata": {
      "slideshow": {
       "slide_type": "slide"
      }
     },
     "source": [
      "#\u672c\u65e5\u306e\u304a\u984c\n",
      "\n",
      "***IPython Notebook\u3092\u4f7f\u3063\u3066\u304a\u624b\u8efd\u30c7\u30fc\u30bf\u5206\u6790***\n"
     ]
    },
    {
     "cell_type": "markdown",
     "metadata": {
      "slideshow": {
       "slide_type": "subslide"
      }
     },
     "source": [
      "#IPython Notebook\u3068\u306f\u4f55\u304b\n",
      "\n",
      "- ipython\u3092\u30d6\u30e9\u30a6\u30b6\u7d4c\u7531\u3067\u53e9\u3051\u308b\u3088\u3046\u306b\u3059\u308b\u3044ipython\u672c\u4f53\u306e\u6a5f\u80fd\n",
      "\n",
      "- \u901a\u4fe1\u90e8\u5206\u306bWebSocket\u3068tornado\u3092\u4f7f\u7528\u3057\u3066\u3044\u308b\n",
      "\n",
      "- \u3064\u3044\u3064\u3044\u66f8\u304d\u6563\u3089\u304b\u3057\u304c\u3061\u306a\u65e5\u3005\u306e\u30c7\u30fc\u30bf\u5206\u6790\u30b3\u30fc\u30c9\u3092\u6574\u7406\u3059\u308b\u30e2\u30c1\u30d9\u30fc\u30b7\u30e7\u30f3\u304c\u30a2\u30c3\u30d7\u3059\u308b\u3002\n",
      "\n",
      "\n",
      "- \u30b3\u30fc\u30c9\u3068\u7d50\u679c\u3084plot\u306e\u753b\u50cf\u304c\u30a4\u30f3\u30e9\u30a4\u30f3\u3067\u8868\u793a\u3055\u308c\u308b\u304c\u3081\u3001\u3088\u308a\u5bfe\u8a71\u7684\u306a\u5206\u6790\u304c\u53ef\u80fd\n",
      "        -> \u96c6\u8a08\u3001\u5206\u6790\u3001\u53ef\u8996\u5316\u3092\u3059\u3079\u3066\u307e\u3068\u3081\u305f\u308a\u3001\u30c7\u30a3\u30b9\u30ab\u30c3\u30b7\u30e7\u30f3\u4e2d\u306b\u30ea\u30a2\u30eb\u30bf\u30a4\u30e0\u3067\u691c\u8a3c\u3082\u3067\u304d\u308b\n",
      "\n",
      "\n",
      "- markdown\u306b\u3088\u308b\u30c9\u30ad\u30e5\u30e1\u30f3\u30c8\u6a5f\u80fd\u304c\u5145\u5b9f\u3057\u3066\u3044\u3066\u753b\u50cf\u306e\u53d6\u308a\u8fbc\u307f\u3084LaTex\u3068mathjax.js\u3092\u5229\u7528\u3057\u3066\u6570\u5f0f\u3082\u8868\u793a\u3067\u304d\u308b\n",
      "\n",
      "\n",
      "- pandoc\u3092\u5229\u7528\u3057\u3066notebook\u3092\u69d8\u3005\u306a\u5f62\u5f0f\u306e\u30c9\u30ad\u30e5\u30e1\u30f3\u30c8\u306bexport\u3067\u304d\u308b(nbconverter)"
     ]
    },
    {
     "cell_type": "markdown",
     "metadata": {
      "slideshow": {
       "slide_type": "subslide"
      }
     },
     "source": [
      "##nbviewer\u306b\u3066\u30b7\u30a7\u30a2\u3055\u308c\u3066\u3044\u308bnotebook\u304c\u95b2\u89a7\u3067\u304d\u308b"
     ]
    },
    {
     "cell_type": "code",
     "collapsed": true,
     "input": [
      "from IPython.display import HTML\n",
      "HTML('<iframe src=http://nbviewer.ipython.org/ width=800 height=500></iframe>')"
     ],
     "language": "python",
     "metadata": {
      "slideshow": {
       "slide_type": "-"
      }
     },
     "outputs": [
      {
       "html": [
        "<iframe src=http://nbviewer.ipython.org/ width=800 height=500></iframe>"
       ],
       "metadata": {},
       "output_type": "pyout",
       "prompt_number": 1,
       "text": [
        "<IPython.core.display.HTML at 0xb1fa14ec>"
       ]
      }
     ],
     "prompt_number": 1
    },
    {
     "cell_type": "markdown",
     "metadata": {
      "slideshow": {
       "slide_type": "slide"
      }
     },
     "source": [
      "#\u4eca\u56de\u306e\u74b0\u5883\n",
      "\n",
      "\n",
      "##OS, Python\n",
      "\n",
      "- OS : Ubuntu 14.04\n",
      "- Python 2.7.6\n",
      "- NumPy, Scipy, Matplotlib : apt-get\u3067install\n",
      "- \u305d\u306e\u4ed6pandoc, mongodb, redis\u306a\u3069\u3082\u5165\u308c\u308b\u3002\n",
      "\n",
      "##IPython\n",
      "\n",
      "\u4ee5\u4e0b\u306e\u30b3\u30de\u30f3\u30c9\u3067IPython\u672c\u4f53\u3068\u5927\u62b5\u306e\u95a2\u9023\u30d1\u30c3\u30b1\u30fc\u30b8\u304c\u5165\u308b\n",
      "\n",
      "```\n",
      "$ sudo pip install ipython[all] --upgrade\n",
      "```\n",
      "\n",
      "2014/08\u6642\u70b9\u3067\u306eIPython\u306e\u6700\u65b0\u7248\u306f2.1\n",
      "\n",
      "\n",
      "Windows\u306e\u5834\u5408\u3084\u53e4\u3044CentOS6\u306a\u3069\u3067\u306f\u624b\u3063\u53d6\u308a\u65e9\u304f[Anaconda](https://store.continuum.io/cshop/anaconda/)\u3092\u4f7f\u7528\u3057\u3066\u5165\u308c\u3066\u3057\u307e\u3046\u306e\u3082\u826f\u3044\u3002\n",
      "\n",
      "\u4eca\u56de\u306e\u74b0\u5883\u306evagrant box\u30d5\u30a1\u30a4\u30eb\u306f[\u3053\u3061\u3089](https://vagrantcloud.com/frontier45/ubuntu-trusty-ipnotebook/version/1/provider/virtualbox.box)\u3002"
     ]
    },
    {
     "cell_type": "markdown",
     "metadata": {
      "slideshow": {
       "slide_type": "slide"
      }
     },
     "source": [
      "##\u8d77\u52d5\n",
      "\n",
      "\n",
      "\u4ee5\u4e0b\u306e\u30b3\u30de\u30f3\u30c9\u3067\u8d77\u52d5\n",
      "\n",
      "```\n",
      "$ ipython notebook\n",
      "```\n",
      "\n",
      "##\u3088\u304f\u4f7f\u3046\u30aa\u30d7\u30b7\u30e7\u30f3\n",
      "\n",
      "- `--pylab=inline` : numpy\u3084matplotlib\u306a\u3069\u304cimport\u3055\u308c\u3066\u3044\u308bmatlab-like\u306a\u74b0\u5883\u3067\u8d77\u52d5\u3001\u753b\u50cf\u306f\u305d\u306e\u307e\u307ecell\u5185\u306b\u8868\u793a\n",
      "- `--ip=, --port=` : bind\u3059\u308b\u30a2\u30c9\u30ec\u30b9\u3068\u30dd\u30fc\u30c8\u3092\u6307\u5b9a\u3002\u30c7\u30d5\u30a9\u30eb\u30c8\u306f`(ip, port) = (localhost, 8888)`\n",
      "- `--no-browser` : \u8d77\u52d5\u6642\u3068\u540c\u6642\u306b\u30d6\u30e9\u30a6\u30b6\u3067\u8868\u793a\u3057\u306a\u3044\n",
      "- `--certfile=` : Notebook\u30b5\u30fc\u30d0\u30fc\u306b\u30d1\u30b9\u30ef\u30fc\u30c9\u3092\u639b\u3051\u308b\u3053\u3068\u304c\u3067\u304d\u308b\u3002\u30a2\u30af\u30bb\u30b9\u65b9\u5f0f\u3082HTTPS\u306b\u5909\u308f\u308b\u3002\n",
      "\n",
      "##\u304a\u3059\u3059\u3081\u8d77\u52d5\u30b3\u30de\u30f3\u30c9\n",
      "\n",
      "\n",
      "```\n",
      "$ nohup ipython notebook --pylab=inline --ip=0.0.0.0 --no-browser >> ~/nbserver.log 2>&1 & echo $! > ipython_notebook.pid\n",
      "```\n",
      "\n",
      "\u30aa\u30d7\u30b7\u30e7\u30f3\u306f\u30b3\u30de\u30f3\u30c9\u3067\u6307\u5b9a\u3059\u308b\u4ee5\u5916\u306bconfig\u30d5\u30a1\u30a4\u30eb\u306b\u5404\u65b9\u6cd5\u3082\u3042\u308b\u3002\u8a73\u3057\u304f\u306f[\u516c\u5f0fdoc](http://ipython.org/ipython-doc/2/config/index.html)\u3092\u53c2\u7167\u3002"
     ]
    },
    {
     "cell_type": "markdown",
     "metadata": {
      "slideshow": {
       "slide_type": "slide"
      }
     },
     "source": [
      "#\u4f7f\u3044\u65b9\n",
      "\n",
      "\n",
      "\u30d6\u30e9\u30a6\u30b6\u304b\u3089ipython\u3068\u540c\u3058\u3088\u3046\u306bpython\u306e\u30b3\u30fc\u30c9\u3092\u66f8\u3044\u3066\u4f7f\u7528\u3059\u308b\u3060\u3051!"
     ]
    },
    {
     "cell_type": "code",
     "collapsed": true,
     "input": [
      "import numpy as np\n",
      "x = np.random.randn(100, 2)\n",
      "plot(x[:,0], x[:, 1], \"o\")"
     ],
     "language": "python",
     "metadata": {},
     "outputs": [
      {
       "metadata": {},
       "output_type": "pyout",
       "prompt_number": 2,
       "text": [
        "[<matplotlib.lines.Line2D at 0xb170e76c>]"
       ]
      },
      {
       "metadata": {},
       "output_type": "display_data",
       "png": "[encoded data removed]",
       "text": [
        "<matplotlib.figure.Figure at 0xb1fa182c>"
       ]
      }
     ],
     "prompt_number": 2
    },
    {
     "cell_type": "markdown",
     "metadata": {
      "slideshow": {
       "slide_type": "subslide"
      }
     },
     "source": [
      "##\u6587\u5b57\u3068\u753b\u50cf\u3092\u5927\u304d\u304f\u3059\u308b\n"
     ]
    },
    {
     "cell_type": "code",
     "collapsed": true,
     "input": [
      "pylab.rcParams[\"font.size\"] = 18\n",
      "fig = plt.figure(figsize=(12, 8))\n",
      "plot(x[:,0], x[:, 1], \"o\")"
     ],
     "language": "python",
     "metadata": {
      "slideshow": {
       "slide_type": "-"
      }
     },
     "outputs": [
      {
       "metadata": {},
       "output_type": "pyout",
       "prompt_number": 3,
       "text": [
        "[<matplotlib.lines.Line2D at 0xb16d62ec>]"
       ]
      },
      {
       "metadata": {},
       "output_type": "display_data",
       "png": "[encoded data removed]",
       "text": [
        "<matplotlib.figure.Figure at 0xb159d94c>"
       ]
      }
     ],
     "prompt_number": 3
    },
    {
     "cell_type": "markdown",
     "metadata": {
      "slideshow": {
       "slide_type": "slide"
      }
     },
     "source": [
      "#sklearn\u3067\u6a5f\u68b0\u5b66\u7fd2\u6a5f\u68b0\u5b66\u7fd2\n"
     ]
    },
    {
     "cell_type": "code",
     "collapsed": true,
     "input": [
      "from sklearn import datasets, decomposition, ensemble\n",
      "iris = datasets.load_iris()\n",
      "X = iris.data\n",
      "Y = iris.target\n",
      "model = ensemble.RandomForestClassifier(n_estimators=100, n_jobs=-1).fit(X, Y)\n",
      "model.score(X, Y)"
     ],
     "language": "python",
     "metadata": {
      "slideshow": {
       "slide_type": "-"
      }
     },
     "outputs": [
      {
       "metadata": {},
       "output_type": "pyout",
       "prompt_number": 4,
       "text": [
        "1.0"
       ]
      }
     ],
     "prompt_number": 4
    },
    {
     "cell_type": "code",
     "collapsed": true,
     "input": [
      "labels = model.predict(X)\n",
      "print labels\n",
      "print Y"
     ],
     "language": "python",
     "metadata": {},
     "outputs": [
      {
       "output_type": "stream",
       "stream": "stdout",
       "text": [
        "[0 0 0 0 0 0 0 0 0 0 0 0 0 0 0 0 0 0 0 0 0 0 0 0 0 0 0 0 0 0 0 0 0 0 0 0 0\n",
        " 0 0 0 0 0 0 0 0 0 0 0 0 0 1 1 1 1 1 1 1 1 1 1 1 1 1 1 1 1 1 1 1 1 1 1 1 1\n",
        " 1 1 1 1 1 1 1 1 1 1 1 1 1 1 1 1 1 1 1 1 1 1 1 1 1 1 2 2 2 2 2 2 2 2 2 2 2\n",
        " 2 2 2 2 2 2 2 2 2 2 2 2 2 2 2 2 2 2 2 2 2 2 2 2 2 2 2 2 2 2 2 2 2 2 2 2 2\n",
        " 2 2]\n",
        "[0 0 0 0 0 0 0 0 0 0 0 0 0 0 0 0 0 0 0 0 0 0 0 0 0 0 0 0 0 0 0 0 0 0 0 0 0\n",
        " 0 0 0 0 0 0 0 0 0 0 0 0 0 1 1 1 1 1 1 1 1 1 1 1 1 1 1 1 1 1 1 1 1 1 1 1 1\n",
        " 1 1 1 1 1 1 1 1 1 1 1 1 1 1 1 1 1 1 1 1 1 1 1 1 1 1 2 2 2 2 2 2 2 2 2 2 2\n",
        " 2 2 2 2 2 2 2 2 2 2 2 2 2 2 2 2 2 2 2 2 2 2 2 2 2 2 2 2 2 2 2 2 2 2 2 2 2\n",
        " 2 2]\n"
       ]
      }
     ],
     "prompt_number": 5
    },
    {
     "cell_type": "markdown",
     "metadata": {
      "slideshow": {
       "slide_type": "slide"
      }
     },
     "source": [
      "#pandas\u306eDataFrame\u306f\u81ea\u52d5\u7684\u306b\u8868\u307f\u305f\u3044\u306b\u8868\u793a\u3055\u308c\u308b\n"
     ]
    },
    {
     "cell_type": "code",
     "collapsed": true,
     "input": [
      "import pandas as pd\n",
      "names = [iris.target_names[i] for i in iris.target]\n",
      "iris_df = pd.DataFrame(data=X, index=names, columns=iris.feature_names)\n",
      "iris_df.index.name = \"species\"\n",
      "random_indexes = np.arange(len(X))\n",
      "np.random.shuffle(random_indexes)\n",
      "# iris_df[random_indexes]\n",
      "iris_df.ix[random_indexes][:10]"
     ],
     "language": "python",
     "metadata": {},
     "outputs": [
      {
       "html": [
        "<div style=\"max-height:1000px;max-width:1500px;overflow:auto;\">\n",
        "<table border=\"1\" class=\"dataframe\">\n",
        "  <thead>\n",
        "    <tr style=\"text-align: right;\">\n",
        "      <th></th>\n",
        "      <th>sepal length (cm)</th>\n",
        "      <th>sepal width (cm)</th>\n",
        "      <th>petal length (cm)</th>\n",
        "      <th>petal width (cm)</th>\n",
        "    </tr>\n",
        "    <tr>\n",
        "      <th>species</th>\n",
        "      <th></th>\n",
        "      <th></th>\n",
        "      <th></th>\n",
        "      <th></th>\n",
        "    </tr>\n",
        "  </thead>\n",
        "  <tbody>\n",
        "    <tr>\n",
        "      <th>setosa</th>\n",
        "      <td> 5.1</td>\n",
        "      <td> 3.3</td>\n",
        "      <td> 1.7</td>\n",
        "      <td> 0.5</td>\n",
        "    </tr>\n",
        "    <tr>\n",
        "      <th>virginica</th>\n",
        "      <td> 7.1</td>\n",
        "      <td> 3.0</td>\n",
        "      <td> 5.9</td>\n",
        "      <td> 2.1</td>\n",
        "    </tr>\n",
        "    <tr>\n",
        "      <th>virginica</th>\n",
        "      <td> 4.9</td>\n",
        "      <td> 2.5</td>\n",
        "      <td> 4.5</td>\n",
        "      <td> 1.7</td>\n",
        "    </tr>\n",
        "    <tr>\n",
        "      <th>virginica</th>\n",
        "      <td> 6.7</td>\n",
        "      <td> 3.3</td>\n",
        "      <td> 5.7</td>\n",
        "      <td> 2.5</td>\n",
        "    </tr>\n",
        "    <tr>\n",
        "      <th>virginica</th>\n",
        "      <td> 5.8</td>\n",
        "      <td> 2.7</td>\n",
        "      <td> 5.1</td>\n",
        "      <td> 1.9</td>\n",
        "    </tr>\n",
        "    <tr>\n",
        "      <th>virginica</th>\n",
        "      <td> 6.3</td>\n",
        "      <td> 3.3</td>\n",
        "      <td> 6.0</td>\n",
        "      <td> 2.5</td>\n",
        "    </tr>\n",
        "    <tr>\n",
        "      <th>versicolor</th>\n",
        "      <td> 5.8</td>\n",
        "      <td> 2.7</td>\n",
        "      <td> 3.9</td>\n",
        "      <td> 1.2</td>\n",
        "    </tr>\n",
        "    <tr>\n",
        "      <th>versicolor</th>\n",
        "      <td> 5.7</td>\n",
        "      <td> 2.8</td>\n",
        "      <td> 4.5</td>\n",
        "      <td> 1.3</td>\n",
        "    </tr>\n",
        "    <tr>\n",
        "      <th>versicolor</th>\n",
        "      <td> 6.3</td>\n",
        "      <td> 3.3</td>\n",
        "      <td> 4.7</td>\n",
        "      <td> 1.6</td>\n",
        "    </tr>\n",
        "    <tr>\n",
        "      <th>versicolor</th>\n",
        "      <td> 6.6</td>\n",
        "      <td> 2.9</td>\n",
        "      <td> 4.6</td>\n",
        "      <td> 1.3</td>\n",
        "    </tr>\n",
        "  </tbody>\n",
        "</table>\n",
        "<p>10 rows \u00d7 4 columns</p>\n",
        "</div>"
       ],
       "metadata": {},
       "output_type": "pyout",
       "prompt_number": 6,
       "text": [
        "            sepal length (cm)  sepal width (cm)  petal length (cm)  \\\n",
        "species                                                              \n",
        "setosa                    5.1               3.3                1.7   \n",
        "virginica                 7.1               3.0                5.9   \n",
        "virginica                 4.9               2.5                4.5   \n",
        "virginica                 6.7               3.3                5.7   \n",
        "virginica                 5.8               2.7                5.1   \n",
        "virginica                 6.3               3.3                6.0   \n",
        "versicolor                5.8               2.7                3.9   \n",
        "versicolor                5.7               2.8                4.5   \n",
        "versicolor                6.3               3.3                4.7   \n",
        "versicolor                6.6               2.9                4.6   \n",
        "\n",
        "            petal width (cm)  \n",
        "species                       \n",
        "setosa                   0.5  \n",
        "virginica                2.1  \n",
        "virginica                1.7  \n",
        "virginica                2.5  \n",
        "virginica                1.9  \n",
        "virginica                2.5  \n",
        "versicolor               1.2  \n",
        "versicolor               1.3  \n",
        "versicolor               1.6  \n",
        "versicolor               1.3  \n",
        "\n",
        "[10 rows x 4 columns]"
       ]
      }
     ],
     "prompt_number": 6
    },
    {
     "cell_type": "markdown",
     "metadata": {
      "slideshow": {
       "slide_type": "slide"
      }
     },
     "source": [
      "#DB\u306b\u30a2\u30af\u30bb\u30b9"
     ]
    },
    {
     "cell_type": "markdown",
     "metadata": {
      "slideshow": {
       "slide_type": "-"
      }
     },
     "source": [
      "##Redis"
     ]
    },
    {
     "cell_type": "code",
     "collapsed": true,
     "input": [
      "import redis\n",
      "r = redis.StrictRedis(host='localhost', port=6379, db=0)\n",
      "r.set('foo', 'bar')\n",
      "r.get('foo')"
     ],
     "language": "python",
     "metadata": {},
     "outputs": [
      {
       "metadata": {},
       "output_type": "pyout",
       "prompt_number": 7,
       "text": [
        "'bar'"
       ]
      }
     ],
     "prompt_number": 7
    },
    {
     "cell_type": "markdown",
     "metadata": {},
     "source": [
      "##MongoDB"
     ]
    },
    {
     "cell_type": "code",
     "collapsed": true,
     "input": [
      "import pymongo\n",
      "con = pymongo.MongoClient(host=\"localhost\")\n",
      "col = con[\"testdb\"][\"testcol\"]\n",
      "col.insert({\"hoge\":\"fuga\"})\n",
      "list(col.find())"
     ],
     "language": "python",
     "metadata": {},
     "outputs": [
      {
       "metadata": {},
       "output_type": "pyout",
       "prompt_number": 8,
       "text": [
        "[{u'_id': ObjectId('53d741e995babe0b62286cd2'), u'hoge': u'fuga'},\n",
        " {u'_id': ObjectId('53ddf25ed7f6c70c4372dd18'), u'hoge': u'fuga'}]"
       ]
      }
     ],
     "prompt_number": 8
    },
    {
     "cell_type": "markdown",
     "metadata": {
      "slideshow": {
       "slide_type": "subslide"
      }
     },
     "source": [
      "##MongoDB\u306e\u30ec\u30b3\u30fc\u30c9\u3092DataFrame\u306b\u5165\u308c\u308b"
     ]
    },
    {
     "cell_type": "code",
     "collapsed": true,
     "input": [
      "col = con[\"testdb\"][\"iris\"]\n",
      "iris_dat = pd.DataFrame(list(col.find({},{\"_id\":0})))\n",
      "iris_dat[:10]"
     ],
     "language": "python",
     "metadata": {
      "slideshow": {
       "slide_type": "-"
      }
     },
     "outputs": [
      {
       "html": [
        "<div style=\"max-height:1000px;max-width:1500px;overflow:auto;\">\n",
        "<table border=\"1\" class=\"dataframe\">\n",
        "  <thead>\n",
        "    <tr style=\"text-align: right;\">\n",
        "      <th></th>\n",
        "      <th>petal length (cm)</th>\n",
        "      <th>petal width (cm)</th>\n",
        "      <th>sepal length (cm)</th>\n",
        "      <th>sepal width (cm)</th>\n",
        "      <th>species</th>\n",
        "    </tr>\n",
        "  </thead>\n",
        "  <tbody>\n",
        "    <tr>\n",
        "      <th>0</th>\n",
        "      <td> 1.4</td>\n",
        "      <td> 0.2</td>\n",
        "      <td> 5.1</td>\n",
        "      <td> 3.5</td>\n",
        "      <td> setosa</td>\n",
        "    </tr>\n",
        "    <tr>\n",
        "      <th>1</th>\n",
        "      <td> 1.4</td>\n",
        "      <td> 0.2</td>\n",
        "      <td> 4.9</td>\n",
        "      <td> 3.0</td>\n",
        "      <td> setosa</td>\n",
        "    </tr>\n",
        "    <tr>\n",
        "      <th>2</th>\n",
        "      <td> 1.3</td>\n",
        "      <td> 0.2</td>\n",
        "      <td> 4.7</td>\n",
        "      <td> 3.2</td>\n",
        "      <td> setosa</td>\n",
        "    </tr>\n",
        "    <tr>\n",
        "      <th>3</th>\n",
        "      <td> 1.5</td>\n",
        "      <td> 0.2</td>\n",
        "      <td> 4.6</td>\n",
        "      <td> 3.1</td>\n",
        "      <td> setosa</td>\n",
        "    </tr>\n",
        "    <tr>\n",
        "      <th>4</th>\n",
        "      <td> 1.4</td>\n",
        "      <td> 0.2</td>\n",
        "      <td> 5.0</td>\n",
        "      <td> 3.6</td>\n",
        "      <td> setosa</td>\n",
        "    </tr>\n",
        "    <tr>\n",
        "      <th>5</th>\n",
        "      <td> 1.7</td>\n",
        "      <td> 0.4</td>\n",
        "      <td> 5.4</td>\n",
        "      <td> 3.9</td>\n",
        "      <td> setosa</td>\n",
        "    </tr>\n",
        "    <tr>\n",
        "      <th>6</th>\n",
        "      <td> 1.4</td>\n",
        "      <td> 0.3</td>\n",
        "      <td> 4.6</td>\n",
        "      <td> 3.4</td>\n",
        "      <td> setosa</td>\n",
        "    </tr>\n",
        "    <tr>\n",
        "      <th>7</th>\n",
        "      <td> 1.5</td>\n",
        "      <td> 0.2</td>\n",
        "      <td> 5.0</td>\n",
        "      <td> 3.4</td>\n",
        "      <td> setosa</td>\n",
        "    </tr>\n",
        "    <tr>\n",
        "      <th>8</th>\n",
        "      <td> 1.4</td>\n",
        "      <td> 0.2</td>\n",
        "      <td> 4.4</td>\n",
        "      <td> 2.9</td>\n",
        "      <td> setosa</td>\n",
        "    </tr>\n",
        "    <tr>\n",
        "      <th>9</th>\n",
        "      <td> 1.5</td>\n",
        "      <td> 0.1</td>\n",
        "      <td> 4.9</td>\n",
        "      <td> 3.1</td>\n",
        "      <td> setosa</td>\n",
        "    </tr>\n",
        "  </tbody>\n",
        "</table>\n",
        "<p>10 rows \u00d7 5 columns</p>\n",
        "</div>"
       ],
       "metadata": {},
       "output_type": "pyout",
       "prompt_number": 9,
       "text": [
        "   petal length (cm)  petal width (cm)  sepal length (cm)  sepal width (cm)  \\\n",
        "0                1.4               0.2                5.1               3.5   \n",
        "1                1.4               0.2                4.9               3.0   \n",
        "2                1.3               0.2                4.7               3.2   \n",
        "3                1.5               0.2                4.6               3.1   \n",
        "4                1.4               0.2                5.0               3.6   \n",
        "5                1.7               0.4                5.4               3.9   \n",
        "6                1.4               0.3                4.6               3.4   \n",
        "7                1.5               0.2                5.0               3.4   \n",
        "8                1.4               0.2                4.4               2.9   \n",
        "9                1.5               0.1                4.9               3.1   \n",
        "\n",
        "  species  \n",
        "0  setosa  \n",
        "1  setosa  \n",
        "2  setosa  \n",
        "3  setosa  \n",
        "4  setosa  \n",
        "5  setosa  \n",
        "6  setosa  \n",
        "7  setosa  \n",
        "8  setosa  \n",
        "9  setosa  \n",
        "\n",
        "[10 rows x 5 columns]"
       ]
      }
     ],
     "prompt_number": 9
    },
    {
     "cell_type": "markdown",
     "metadata": {
      "slideshow": {
       "slide_type": "slide"
      }
     },
     "source": [
      "#\u4e26\u5217\u8a08\u7b97\u304c\u3057\u305f\u3044\n",
      "\n",
      "\n",
      "- built-in\u306e`multiprocessing`\u30e2\u30b8\u30e5\u30fc\u30eb\u3092\u4f7f\u7528\u3059\u308b\n",
      "\n",
      "- `IPython.parallel`\u3092\u4f7f\u7528\u3059\u308b\n",
      "\n",
      "- PySpark\u3092\u4f7f\u7528\u3059\u308b\n",
      "\n",
      "- impyla\u3092\u4f7f\u7528\u3059\u308b\n"
     ]
    },
    {
     "cell_type": "markdown",
     "metadata": {
      "slideshow": {
       "slide_type": "subslide"
      }
     },
     "source": [
      "multiprocessing\n",
      "---\n",
      "\n",
      "\u5909\u306a\u30a8\u30e9\u30fc\u3067\u3064\u307e\u3065\u304d\u307e\u3057\u305f\u3002\u3069\u3046\u3084\u3089***\\_\\_main__\u304b\u3089\u3067\u306a\u3044\u3068\u4f7f\u7528\u3067\u304d\u306a\u3044***\u3089\u3057\u3044\u3002"
     ]
    },
    {
     "cell_type": "code",
     "collapsed": true,
     "input": [
      "HTML('<iframe src=https://docs.python.org/2/library/multiprocessing.html#introduction width=800 height=500></iframe>')"
     ],
     "language": "python",
     "metadata": {},
     "outputs": [
      {
       "html": [
        "<iframe src=https://docs.python.org/2/library/multiprocessing.html#introduction width=800 height=500></iframe>"
       ],
       "metadata": {},
       "output_type": "pyout",
       "prompt_number": 10,
       "text": [
        "<IPython.core.display.HTML at 0xaf48fb4c>"
       ]
      }
     ],
     "prompt_number": 10
    },
    {
     "cell_type": "markdown",
     "metadata": {
      "slideshow": {
       "slide_type": "subslide"
      }
     },
     "source": [
      "##IPython.parallel\n",
      "\n",
      "~~\u3088\u304f\u308f\u304b\u3089\u3093~~\n",
      "\u4ee5\u4e0b\u306e\u30da\u30fc\u30b8\u3092\u53c2\u7167"
     ]
    },
    {
     "cell_type": "code",
     "collapsed": true,
     "input": [
      "HTML('<iframe src=http://ipython.org/ipython-doc/2/parallel/parallel_intro.html width=800 height=500></iframe>')"
     ],
     "language": "python",
     "metadata": {},
     "outputs": [
      {
       "html": [
        "<iframe src=http://ipython.org/ipython-doc/2/parallel/parallel_intro.html width=800 height=500></iframe>"
       ],
       "metadata": {},
       "output_type": "pyout",
       "prompt_number": 11,
       "text": [
        "<IPython.core.display.HTML at 0xaf48fd6c>"
       ]
      }
     ],
     "prompt_number": 11
    },
    {
     "cell_type": "markdown",
     "metadata": {
      "slideshow": {
       "slide_type": "subslide"
      }
     },
     "source": [
      "##PySpark"
     ]
    },
    {
     "cell_type": "code",
     "collapsed": true,
     "input": [
      "\"\"\"\n",
      "\u3053\u306e\u5185\u5bb9\u306f\n",
      "~/.ipython/profile_default/startup/00-pyspark-setup.py\n",
      "\u3042\u305f\u308a\u306b\u66f8\u3044\u3066\u304a\u304f\u4fbf\u5229\n",
      "\"\"\"\n",
      "\n",
      "# Configure the necessary Spark environment\n",
      "import os\n",
      "os.environ['SPARK_HOME'] = '/opt/spark/'\n",
      "\n",
      "# And Python path\n",
      "import sys\n",
      "sys.path.insert(0, '/opt/spark/python')\n",
      "sys.path.insert(0, '/opt/spark/python/lib/py4j-0.8.1-src.zip')"
     ],
     "language": "python",
     "metadata": {},
     "outputs": [],
     "prompt_number": 12
    },
    {
     "cell_type": "code",
     "collapsed": true,
     "input": [
      "# create Spark Context\n",
      "from pyspark import SparkConf, SparkContext\n",
      "conf = SparkConf().setMaster(\"local\").set(\"spark.executer.memory\", \"256m\")\n",
      "sc = SparkContext(conf=conf)"
     ],
     "language": "python",
     "metadata": {},
     "outputs": [],
     "prompt_number": 13
    },
    {
     "cell_type": "code",
     "collapsed": true,
     "input": [
      "distData = sc.parallelize(range(10))\n",
      "distData.map(lambda x:x**2).reduce(lambda x,y:x+y)"
     ],
     "language": "python",
     "metadata": {},
     "outputs": [
      {
       "metadata": {},
       "output_type": "pyout",
       "prompt_number": 14,
       "text": [
        "285"
       ]
      }
     ],
     "prompt_number": 14
    },
    {
     "cell_type": "markdown",
     "metadata": {},
     "source": [
      "<font size=\"5\" color=\"#ff0000\">\u3053\u306e\u30ce\u30fc\u30c8\u306fSparkContext\u3092\u63b4\u307f\u3063\u3071\u306a\u3057\u306a\u306e\u3067\u5fd8\u308c\u305a\u306bshutdown\u3057\u3066\u304a\u304f\u3053\u3068 </font>"
     ]
    },
    {
     "cell_type": "markdown",
     "metadata": {
      "slideshow": {
       "slide_type": "subslide"
      }
     },
     "source": [
      "##impyla\n",
      "\n",
      "~~\u3081\u3093\u3069\u304f\u3055\u3044\u306e\u3067~~\u8a66\u3057\u3066\u307e\u305b\u3093\u3002[github](https://github.com/cloudera/impyla)\u3067\u3082\u898b\u3066\u3069\u3046\u306b\u304b\u3057\u3066\u304f\u3060\u3055\u3044\u3002"
     ]
    },
    {
     "cell_type": "markdown",
     "metadata": {
      "slideshow": {
       "slide_type": "slide"
      }
     },
     "source": [
      "#notebook\u3092\u4ed6\u306e\u5f62\u5f0f\u306bexport\n",
      "\n",
      "pandoc\u3092\u4f7f\u7528\u3057\u3066`html`, `latex`, `rst`\u306a\u3069\u69d8\u3005\u30d5\u30a9\u30fc\u30de\u30c3\u30c8\u306b\u5909\u63db\u3067\u304d\u308b\n",
      "\n",
      "```\n",
      "$ ipython nbconvert --to FORMAT notebook.ipynb\n",
      "```\n",
      "\n",
      "Reveal.js\u3092\u4f7f\u7528\u3057\u305f`slides`\u306b\u3082\u5909\u63db\u3067\u304d\u308b\u3002\u8a73\u3057\u304f\u306f\u516c\u5f0fdoc\u3092(ry"
     ]
    },
    {
     "cell_type": "code",
     "collapsed": true,
     "input": [
      "HTML(\"<iframe width=800 height=500 src=http://ipython.org/ipython-doc/1/interactive/nbconvert.html></iframe>\")"
     ],
     "language": "python",
     "metadata": {},
     "outputs": [
      {
       "html": [
        "<iframe width=800 height=500 src=http://ipython.org/ipython-doc/1/interactive/nbconvert.html></iframe>"
       ],
       "metadata": {},
       "output_type": "pyout",
       "prompt_number": 15,
       "text": [
        "<IPython.core.display.HTML at 0xaf38f04c>"
       ]
      }
     ],
     "prompt_number": 15
    },
    {
     "cell_type": "markdown",
     "metadata": {
      "slideshow": {
       "slide_type": "slide"
      }
     },
     "source": [
      "#\u53c2\u8003\n",
      "\n",
      "##\u516c\u5f0f\u7cfb\n",
      "- IPython\u516c\u5f0f\u30b5\u30a4\u30c8 <http://ipython.org/>\n",
      "\n",
      "- github\u306b\u3042\u308bNotebook\u30ae\u30e3\u30e9\u30ea <https://github.com/ipython/ipython/wiki/A-gallery-of-interesting-IPython-Notebooks>\n",
      "\n",
      "- nbviewer <http://nbviewer.ipython.org/>\n",
      "\n",
      "#\u30af\u30e9\u30a6\u30c9\u7cfb\n",
      "- [Azure\u3067\u3082\u4f7f\u3048\u308b\u307f\u305f\u3044\u3060\u3088](<http://azure.microsoft.com/ja-jp/documentation/articles/virtual-machines-python-ipython-notebook/>)\n",
      "\n",
      "- [0.27\u30c9\u30eb/\u6642\u304b\u3089\u59cb\u3081\u308bIPython Notebook in EC2](http://badhessian.org/2013/11/cluster-computing-for-027hr-using-amazon-ec2-and-ipython-notebook/)"
     ]
    },
    {
     "cell_type": "markdown",
     "metadata": {
      "slideshow": {
       "slide_type": "slide"
      }
     },
     "source": [
      "###(\u4e00\u5fdc)\u4f1a\u793e\u306e\u5ba3\u4f1d\n",
      "\n",
      "**ServersMan@VPS\u306a\u3089\u6708\u30ef\u30f3\u30b3\u30a4\u30f3\u3067IPython Notebook\u306e\u30b5\u30fc\u30d0\u30fc\u304c\u3067\u304d\u308b\u3088!**"
     ]
    },
    {
     "cell_type": "code",
     "collapsed": true,
     "input": [
      "HTML(\"<iframe width=800 height=500 src=http://dream.jp/vps/></iframe>\")"
     ],
     "language": "python",
     "metadata": {},
     "outputs": [
      {
       "html": [
        "<iframe width=800 height=500 src=http://dream.jp/vps/></iframe>"
       ],
       "metadata": {},
       "output_type": "pyout",
       "prompt_number": 16,
       "text": [
        "<IPython.core.display.HTML at 0xaf48f44c>"
       ]
      }
     ],
     "prompt_number": 16
    }
   ],
   "metadata": {}
  }
 ]
}